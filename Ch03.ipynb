{
 "metadata": {
  "name": "Ch03"
 },
 "nbformat": 3,
 "nbformat_minor": 0,
 "worksheets": [
  {
   "cells": [
    {
     "cell_type": "code",
     "collapsed": false,
     "input": [
      "def closest(position, hotspots):\n",
      "    x0, y0 = position\n",
      "    dbest, ibest = None, None\n",
      "    for i, (x, y) in enumerate(hotspots):\n",
      "        # Squared Euclidean\n",
      "        d = (x - x0)**2 + (y - y0)**2\n",
      "        if dbest is None or d < dbest:\n",
      "            dbest, ibest = d, i\n",
      "    return ibest"
     ],
     "language": "python",
     "metadata": {},
     "outputs": [],
     "prompt_number": 1
    },
    {
     "cell_type": "code",
     "collapsed": false,
     "input": [
      "import random\n",
      "positions = [(random.random(), random.random()) for k in xrange(10000000)]"
     ],
     "language": "python",
     "metadata": {},
     "outputs": [],
     "prompt_number": 2
    },
    {
     "cell_type": "code",
     "collapsed": false,
     "input": [
      "timeit closest((.5, .5), positions)"
     ],
     "language": "python",
     "metadata": {},
     "outputs": [
      {
       "output_type": "stream",
       "stream": "stdout",
       "text": [
        "1 loops, best of 3: 3.56 s per loop\n"
       ]
      }
     ],
     "prompt_number": 3
    },
    {
     "cell_type": "markdown",
     "metadata": {},
     "source": [
      "---"
     ]
    },
    {
     "cell_type": "code",
     "collapsed": false,
     "input": [
      "%pylab"
     ],
     "language": "python",
     "metadata": {},
     "outputs": [
      {
       "output_type": "stream",
       "stream": "stdout",
       "text": [
        "\n",
        "Welcome to pylab, a matplotlib-based Python environment [backend: MacOSX].\n",
        "For more information, type 'help(pylab)'.\n"
       ]
      },
      {
       "output_type": "stream",
       "stream": "stderr",
       "text": [
        "/Users/sukruhasdemir/anaconda/lib/python2.7/site-packages/matplotlib/__init__.py:1033: UserWarning:  This call to matplotlib.use() has no effect\n",
        "because the the backend has already been chosen;\n",
        "matplotlib.use() must be called *before* pylab, matplotlib.pyplot,\n",
        "or matplotlib.backends is imported for the first time.\n",
        "\n",
        "  warnings.warn(_use_error_msg)\n"
       ]
      }
     ],
     "prompt_number": 4
    },
    {
     "cell_type": "code",
     "collapsed": false,
     "input": [
      "positions = rand(10000000, 2)"
     ],
     "language": "python",
     "metadata": {},
     "outputs": [],
     "prompt_number": 10
    },
    {
     "cell_type": "code",
     "collapsed": false,
     "input": [
      "positions.itemsize"
     ],
     "language": "python",
     "metadata": {},
     "outputs": [
      {
       "output_type": "pyout",
       "prompt_number": 11,
       "text": [
        "8"
       ]
      }
     ],
     "prompt_number": 11
    },
    {
     "cell_type": "code",
     "collapsed": false,
     "input": [
      "x, y = positions[:,0], positions[:,1]"
     ],
     "language": "python",
     "metadata": {},
     "outputs": [],
     "prompt_number": 12
    },
    {
     "cell_type": "code",
     "collapsed": false,
     "input": [
      "timeit distances = (x-.5)**2 + (y-.5)**2"
     ],
     "language": "python",
     "metadata": {},
     "outputs": [
      {
       "output_type": "stream",
       "stream": "stdout",
       "text": [
        "10 loops, best of 3: 145 ms per loop\n"
       ]
      }
     ],
     "prompt_number": 23
    },
    {
     "cell_type": "code",
     "collapsed": false,
     "input": [
      "timeit ibest = distances.argmin()"
     ],
     "language": "python",
     "metadata": {},
     "outputs": [
      {
       "output_type": "stream",
       "stream": "stdout",
       "text": [
        "100 loops, best of 3: 7.1 ms per loop\n"
       ]
      }
     ],
     "prompt_number": 25
    },
    {
     "cell_type": "markdown",
     "metadata": {},
     "source": [
      "---"
     ]
    },
    {
     "cell_type": "code",
     "collapsed": false,
     "input": [
      "x = array([1, 2 ,3])"
     ],
     "language": "python",
     "metadata": {},
     "outputs": [],
     "prompt_number": 26
    },
    {
     "cell_type": "code",
     "collapsed": false,
     "input": [
      "x.shape"
     ],
     "language": "python",
     "metadata": {},
     "outputs": [
      {
       "output_type": "pyout",
       "prompt_number": 27,
       "text": [
        "(3,)"
       ]
      }
     ],
     "prompt_number": 27
    },
    {
     "cell_type": "code",
     "collapsed": false,
     "input": [
      "x.dtype"
     ],
     "language": "python",
     "metadata": {},
     "outputs": [
      {
       "output_type": "pyout",
       "prompt_number": 28,
       "text": [
        "dtype('int64')"
       ]
      }
     ],
     "prompt_number": 28
    },
    {
     "cell_type": "markdown",
     "metadata": {},
     "source": [
      "---"
     ]
    },
    {
     "cell_type": "code",
     "collapsed": false,
     "input": [
      "def mul1(n):\n",
      "    return array([[(i + 1) * (j + 1) for i in xrange(n)] for j in xrange(n)])"
     ],
     "language": "python",
     "metadata": {},
     "outputs": [],
     "prompt_number": 29
    },
    {
     "cell_type": "code",
     "collapsed": false,
     "input": [
      "mul1(4)"
     ],
     "language": "python",
     "metadata": {},
     "outputs": [
      {
       "output_type": "pyout",
       "prompt_number": 31,
       "text": [
        "array([[ 1,  2,  3,  4],\n",
        "       [ 2,  4,  6,  8],\n",
        "       [ 3,  6,  9, 12],\n",
        "       [ 4,  8, 12, 16]])"
       ]
      }
     ],
     "prompt_number": 31
    },
    {
     "cell_type": "code",
     "collapsed": false,
     "input": [
      "timeit mul1(100)"
     ],
     "language": "python",
     "metadata": {},
     "outputs": [
      {
       "output_type": "stream",
       "stream": "stdout",
       "text": [
        "100 loops, best of 3: 2.26 ms per loop\n"
       ]
      }
     ],
     "prompt_number": 32
    },
    {
     "cell_type": "markdown",
     "metadata": {},
     "source": [
      "---"
     ]
    },
    {
     "cell_type": "code",
     "collapsed": false,
     "input": [
      "rand(2, 5)"
     ],
     "language": "python",
     "metadata": {},
     "outputs": [
      {
       "output_type": "pyout",
       "prompt_number": 33,
       "text": [
        "array([[ 0.72738347,  0.96407565,  0.89656497,  0.18950147,  0.44205401],\n",
        "       [ 0.73213653,  0.00154226,  0.67972036,  0.28839524,  0.59011744]])"
       ]
      }
     ],
     "prompt_number": 33
    },
    {
     "cell_type": "markdown",
     "metadata": {},
     "source": [
      "---"
     ]
    },
    {
     "cell_type": "code",
     "collapsed": false,
     "input": [
      "fromstring('1 2 5 10', dtype=int, sep=' ')"
     ],
     "language": "python",
     "metadata": {},
     "outputs": [
      {
       "output_type": "pyout",
       "prompt_number": 34,
       "text": [
        "array([ 1,  2,  5, 10])"
       ]
      }
     ],
     "prompt_number": 34
    },
    {
     "cell_type": "code",
     "collapsed": false,
     "input": [
      "cd fbdata"
     ],
     "language": "python",
     "metadata": {},
     "outputs": [
      {
       "output_type": "stream",
       "stream": "stdout",
       "text": [
        "(bookmark:fbdata) -> /Users/sukruhasdemir/Dropbox/python-study/ipython-book/data/facebook\n",
        "/Users/sukruhasdemir/Dropbox/python-study/ipython-book/data/facebook\n"
       ]
      }
     ],
     "prompt_number": 37
    },
    {
     "cell_type": "code",
     "collapsed": false,
     "input": [
      "loadtxt('0.edges')"
     ],
     "language": "python",
     "metadata": {},
     "outputs": [
      {
       "output_type": "pyout",
       "prompt_number": 38,
       "text": [
        "array([[ 236.,  186.],\n",
        "       [ 122.,  285.],\n",
        "       [  24.,  346.],\n",
        "       ..., \n",
        "       [  85.,   75.],\n",
        "       [  98.,  332.],\n",
        "       [ 291.,  339.]])"
       ]
      }
     ],
     "prompt_number": 38
    },
    {
     "cell_type": "markdown",
     "metadata": {},
     "source": [
      "---"
     ]
    },
    {
     "cell_type": "markdown",
     "metadata": {},
     "source": [
      "Pandas, dl data:"
     ]
    },
    {
     "cell_type": "code",
     "collapsed": false,
     "input": [
      "import urllib2, zipfile"
     ],
     "language": "python",
     "metadata": {},
     "outputs": [],
     "prompt_number": 70
    },
    {
     "cell_type": "code",
     "collapsed": false,
     "input": [
      "url = 'http://ipython.rossant.net/'\n",
      "filename = 'cities.zip'\n",
      "address = 'http://ipython.rossant.net/cities.zip'"
     ],
     "language": "python",
     "metadata": {},
     "outputs": [],
     "prompt_number": 66
    },
    {
     "cell_type": "code",
     "collapsed": false,
     "input": [
      "downloaded = urllib2.urlopen('http://ipython.rossant.net/cities.zip')"
     ],
     "language": "python",
     "metadata": {},
     "outputs": [],
     "prompt_number": 78
    },
    {
     "cell_type": "code",
     "collapsed": false,
     "input": [
      "folder = 'citydata'"
     ],
     "language": "python",
     "metadata": {},
     "outputs": [],
     "prompt_number": 56
    },
    {
     "cell_type": "code",
     "collapsed": false,
     "input": [
      "mkdir $folder"
     ],
     "language": "python",
     "metadata": {},
     "outputs": [
      {
       "output_type": "stream",
       "stream": "stdout",
       "text": [
        "mkdir: citydata: File exists\r\n"
       ]
      }
     ],
     "prompt_number": 68
    },
    {
     "cell_type": "code",
     "collapsed": false,
     "input": [
      "with open(filename, 'wb') as f:\n",
      "    f.write(downloaded.read())"
     ],
     "language": "python",
     "metadata": {},
     "outputs": [],
     "prompt_number": 79
    },
    {
     "cell_type": "code",
     "collapsed": false,
     "input": [
      "with zipfile.ZipFile(filename) as zip:\n",
      "    zip.extractall(folder)"
     ],
     "language": "python",
     "metadata": {},
     "outputs": [],
     "prompt_number": 80
    },
    {
     "cell_type": "code",
     "collapsed": false,
     "input": [
      "bookmark citiesdata citydata/"
     ],
     "language": "python",
     "metadata": {},
     "outputs": [],
     "prompt_number": 82
    },
    {
     "cell_type": "markdown",
     "metadata": {},
     "source": [
      "---"
     ]
    },
    {
     "cell_type": "code",
     "collapsed": false,
     "input": [
      "import pandas as pd"
     ],
     "language": "python",
     "metadata": {},
     "outputs": [],
     "prompt_number": 83
    },
    {
     "cell_type": "code",
     "collapsed": false,
     "input": [
      "filename = 'citydata/worldcitiespop.txt'"
     ],
     "language": "python",
     "metadata": {},
     "outputs": [],
     "prompt_number": 248
    },
    {
     "cell_type": "code",
     "collapsed": false,
     "input": [
      "data = pd.read_csv(filename)"
     ],
     "language": "python",
     "metadata": {},
     "outputs": [],
     "prompt_number": 249
    },
    {
     "cell_type": "code",
     "collapsed": false,
     "input": [
      "type(data)"
     ],
     "language": "python",
     "metadata": {},
     "outputs": [
      {
       "output_type": "pyout",
       "prompt_number": 86,
       "text": [
        "pandas.core.frame.DataFrame"
       ]
      }
     ],
     "prompt_number": 86
    },
    {
     "cell_type": "code",
     "collapsed": false,
     "input": [
      "data.shape, data.keys()"
     ],
     "language": "python",
     "metadata": {},
     "outputs": [
      {
       "output_type": "pyout",
       "prompt_number": 88,
       "text": [
        "((3173958, 7),\n",
        " Index([Country, City, AccentCity, Region, Population, Latitude, Longitude], dtype=object))"
       ]
      }
     ],
     "prompt_number": 88
    },
    {
     "cell_type": "code",
     "collapsed": false,
     "input": [
      "data.head()"
     ],
     "language": "python",
     "metadata": {},
     "outputs": [
      {
       "html": [
        "<div style=\"max-height:1000px;max-width:1500px;overflow:auto;\">\n",
        "<table border=\"1\" class=\"dataframe\">\n",
        "  <thead>\n",
        "    <tr style=\"text-align: right;\">\n",
        "      <th></th>\n",
        "      <th>Country</th>\n",
        "      <th>City</th>\n",
        "      <th>AccentCity</th>\n",
        "      <th>Region</th>\n",
        "      <th>Population</th>\n",
        "      <th>Latitude</th>\n",
        "      <th>Longitude</th>\n",
        "    </tr>\n",
        "  </thead>\n",
        "  <tbody>\n",
        "    <tr>\n",
        "      <th>0</th>\n",
        "      <td> ad</td>\n",
        "      <td>      aixas</td>\n",
        "      <td>      Aix\ufffds</td>\n",
        "      <td> 6</td>\n",
        "      <td>NaN</td>\n",
        "      <td> 42.483333</td>\n",
        "      <td> 1.466667</td>\n",
        "    </tr>\n",
        "    <tr>\n",
        "      <th>1</th>\n",
        "      <td> ad</td>\n",
        "      <td> aixirivali</td>\n",
        "      <td> Aixirivali</td>\n",
        "      <td> 6</td>\n",
        "      <td>NaN</td>\n",
        "      <td> 42.466667</td>\n",
        "      <td> 1.500000</td>\n",
        "    </tr>\n",
        "    <tr>\n",
        "      <th>2</th>\n",
        "      <td> ad</td>\n",
        "      <td> aixirivall</td>\n",
        "      <td> Aixirivall</td>\n",
        "      <td> 6</td>\n",
        "      <td>NaN</td>\n",
        "      <td> 42.466667</td>\n",
        "      <td> 1.500000</td>\n",
        "    </tr>\n",
        "    <tr>\n",
        "      <th>3</th>\n",
        "      <td> ad</td>\n",
        "      <td>  aixirvall</td>\n",
        "      <td>  Aixirvall</td>\n",
        "      <td> 6</td>\n",
        "      <td>NaN</td>\n",
        "      <td> 42.466667</td>\n",
        "      <td> 1.500000</td>\n",
        "    </tr>\n",
        "    <tr>\n",
        "      <th>4</th>\n",
        "      <td> ad</td>\n",
        "      <td>   aixovall</td>\n",
        "      <td>   Aixovall</td>\n",
        "      <td> 6</td>\n",
        "      <td>NaN</td>\n",
        "      <td> 42.466667</td>\n",
        "      <td> 1.483333</td>\n",
        "    </tr>\n",
        "  </tbody>\n",
        "</table>\n",
        "</div>"
       ],
       "output_type": "pyout",
       "prompt_number": 95,
       "text": [
        "  Country        City  AccentCity Region  Population   Latitude  Longitude\n",
        "0      ad       aixas       Aix\ufffds      6         NaN  42.483333   1.466667\n",
        "1      ad  aixirivali  Aixirivali      6         NaN  42.466667   1.500000\n",
        "2      ad  aixirivall  Aixirivall      6         NaN  42.466667   1.500000\n",
        "3      ad   aixirvall   Aixirvall      6         NaN  42.466667   1.500000\n",
        "4      ad    aixovall    Aixovall      6         NaN  42.466667   1.483333"
       ]
      }
     ],
     "prompt_number": 95
    },
    {
     "cell_type": "code",
     "collapsed": false,
     "input": [
      "data.AccentCity"
     ],
     "language": "python",
     "metadata": {},
     "outputs": [
      {
       "output_type": "pyout",
       "prompt_number": 96,
       "text": [
        "0                  Aix\ufffds\n",
        "1             Aixirivali\n",
        "2             Aixirivall\n",
        "3              Aixirvall\n",
        "4               Aixovall\n",
        "5                Andorra\n",
        "6       Andorra la Vella\n",
        "7        Andorra-Vieille\n",
        "8                Andorre\n",
        "9     Andorre-la-Vieille\n",
        "10       Andorre-Vieille\n",
        "11             Ansalonga\n",
        "12                 Any\ufffds\n",
        "13                 Arans\n",
        "14               Arinsal\n",
        "...\n",
        "3173943                Zandi\n",
        "3173944              Zanyika\n",
        "3173945           Zemalapala\n",
        "3173946            Zemandana\n",
        "3173947              Zemanda\n",
        "3173948           Zibalonkwe\n",
        "3173949          Zibunkululu\n",
        "3173950                 Ziga\n",
        "3173951    Zikamanas Village\n",
        "3173952             Zimbabwe\n",
        "3173953           Zimre Park\n",
        "3173954          Ziyakamanas\n",
        "3173955           Zizalisari\n",
        "3173956              Zuzumba\n",
        "3173957           Zvishavane\n",
        "Name: AccentCity, Length: 3173958, dtype: object"
       ]
      }
     ],
     "prompt_number": 96
    },
    {
     "cell_type": "code",
     "collapsed": false,
     "input": [
      "data.AccentCity[30000]"
     ],
     "language": "python",
     "metadata": {},
     "outputs": [
      {
       "output_type": "pyout",
       "prompt_number": 97,
       "text": [
        "'Howasiyan'"
       ]
      }
     ],
     "prompt_number": 97
    },
    {
     "cell_type": "code",
     "collapsed": false,
     "input": [
      "data[data.AccentCity=='New York']"
     ],
     "language": "python",
     "metadata": {},
     "outputs": [
      {
       "html": [
        "<div style=\"max-height:1000px;max-width:1500px;overflow:auto;\">\n",
        "<table border=\"1\" class=\"dataframe\">\n",
        "  <thead>\n",
        "    <tr style=\"text-align: right;\">\n",
        "      <th></th>\n",
        "      <th>Country</th>\n",
        "      <th>City</th>\n",
        "      <th>AccentCity</th>\n",
        "      <th>Region</th>\n",
        "      <th>Population</th>\n",
        "      <th>Latitude</th>\n",
        "      <th>Longitude</th>\n",
        "    </tr>\n",
        "  </thead>\n",
        "  <tbody>\n",
        "    <tr>\n",
        "      <th>998166 </th>\n",
        "      <td> gb</td>\n",
        "      <td> new york</td>\n",
        "      <td> New York</td>\n",
        "      <td> H7</td>\n",
        "      <td>     NaN</td>\n",
        "      <td> 53.083333</td>\n",
        "      <td>  -0.150000</td>\n",
        "    </tr>\n",
        "    <tr>\n",
        "      <th>1087431</th>\n",
        "      <td> hn</td>\n",
        "      <td> new york</td>\n",
        "      <td> New York</td>\n",
        "      <td> 16</td>\n",
        "      <td>     NaN</td>\n",
        "      <td> 14.800000</td>\n",
        "      <td> -88.366667</td>\n",
        "    </tr>\n",
        "    <tr>\n",
        "      <th>1525856</th>\n",
        "      <td> jm</td>\n",
        "      <td> new york</td>\n",
        "      <td> New York</td>\n",
        "      <td>  9</td>\n",
        "      <td>     NaN</td>\n",
        "      <td> 18.250000</td>\n",
        "      <td> -77.183333</td>\n",
        "    </tr>\n",
        "    <tr>\n",
        "      <th>1525857</th>\n",
        "      <td> jm</td>\n",
        "      <td> new york</td>\n",
        "      <td> New York</td>\n",
        "      <td> 10</td>\n",
        "      <td>     NaN</td>\n",
        "      <td> 18.116667</td>\n",
        "      <td> -77.133333</td>\n",
        "    </tr>\n",
        "    <tr>\n",
        "      <th>1893972</th>\n",
        "      <td> mx</td>\n",
        "      <td> new york</td>\n",
        "      <td> New York</td>\n",
        "      <td>  5</td>\n",
        "      <td>     NaN</td>\n",
        "      <td> 16.266667</td>\n",
        "      <td> -93.233333</td>\n",
        "    </tr>\n",
        "    <tr>\n",
        "      <th>2929399</th>\n",
        "      <td> us</td>\n",
        "      <td> new york</td>\n",
        "      <td> New York</td>\n",
        "      <td> FL</td>\n",
        "      <td>     NaN</td>\n",
        "      <td> 30.838333</td>\n",
        "      <td> -87.200833</td>\n",
        "    </tr>\n",
        "    <tr>\n",
        "      <th>2946036</th>\n",
        "      <td> us</td>\n",
        "      <td> new york</td>\n",
        "      <td> New York</td>\n",
        "      <td> IA</td>\n",
        "      <td>     NaN</td>\n",
        "      <td> 40.851667</td>\n",
        "      <td> -93.259722</td>\n",
        "    </tr>\n",
        "    <tr>\n",
        "      <th>2951120</th>\n",
        "      <td> us</td>\n",
        "      <td> new york</td>\n",
        "      <td> New York</td>\n",
        "      <td> KY</td>\n",
        "      <td>     NaN</td>\n",
        "      <td> 36.988889</td>\n",
        "      <td> -88.952500</td>\n",
        "    </tr>\n",
        "    <tr>\n",
        "      <th>2977571</th>\n",
        "      <td> us</td>\n",
        "      <td> new york</td>\n",
        "      <td> New York</td>\n",
        "      <td> MO</td>\n",
        "      <td>     NaN</td>\n",
        "      <td> 39.685278</td>\n",
        "      <td> -93.926667</td>\n",
        "    </tr>\n",
        "    <tr>\n",
        "      <th>2986561</th>\n",
        "      <td> us</td>\n",
        "      <td> new york</td>\n",
        "      <td> New York</td>\n",
        "      <td> NM</td>\n",
        "      <td>     NaN</td>\n",
        "      <td> 35.058611</td>\n",
        "      <td>-107.526667</td>\n",
        "    </tr>\n",
        "    <tr>\n",
        "      <th>2990572</th>\n",
        "      <td> us</td>\n",
        "      <td> new york</td>\n",
        "      <td> New York</td>\n",
        "      <td> NY</td>\n",
        "      <td> 8107916</td>\n",
        "      <td> 40.714167</td>\n",
        "      <td> -74.006389</td>\n",
        "    </tr>\n",
        "    <tr>\n",
        "      <th>3029084</th>\n",
        "      <td> us</td>\n",
        "      <td> new york</td>\n",
        "      <td> New York</td>\n",
        "      <td> TX</td>\n",
        "      <td>     NaN</td>\n",
        "      <td> 32.167778</td>\n",
        "      <td> -95.668889</td>\n",
        "    </tr>\n",
        "  </tbody>\n",
        "</table>\n",
        "</div>"
       ],
       "output_type": "pyout",
       "prompt_number": 99,
       "text": [
        "        Country      City AccentCity Region  Population   Latitude   Longitude\n",
        "998166       gb  new york   New York     H7         NaN  53.083333   -0.150000\n",
        "1087431      hn  new york   New York     16         NaN  14.800000  -88.366667\n",
        "1525856      jm  new york   New York      9         NaN  18.250000  -77.183333\n",
        "1525857      jm  new york   New York     10         NaN  18.116667  -77.133333\n",
        "1893972      mx  new york   New York      5         NaN  16.266667  -93.233333\n",
        "2929399      us  new york   New York     FL         NaN  30.838333  -87.200833\n",
        "2946036      us  new york   New York     IA         NaN  40.851667  -93.259722\n",
        "2951120      us  new york   New York     KY         NaN  36.988889  -88.952500\n",
        "2977571      us  new york   New York     MO         NaN  39.685278  -93.926667\n",
        "2986561      us  new york   New York     NM         NaN  35.058611 -107.526667\n",
        "2990572      us  new york   New York     NY     8107916  40.714167  -74.006389\n",
        "3029084      us  new york   New York     TX         NaN  32.167778  -95.668889"
       ]
      }
     ],
     "prompt_number": 99
    },
    {
     "cell_type": "code",
     "collapsed": false,
     "input": [
      "ny = 2990572\n",
      "data.ix[ny]"
     ],
     "language": "python",
     "metadata": {},
     "outputs": [
      {
       "output_type": "pyout",
       "prompt_number": 100,
       "text": [
        "Country             us\n",
        "City          new york\n",
        "AccentCity    New York\n",
        "Region              NY\n",
        "Population     8107916\n",
        "Latitude      40.71417\n",
        "Longitude    -74.00639\n",
        "Name: 2990572, dtype: object"
       ]
      }
     ],
     "prompt_number": 100
    },
    {
     "cell_type": "markdown",
     "metadata": {},
     "source": [
      "---"
     ]
    },
    {
     "cell_type": "code",
     "collapsed": false,
     "input": [
      "population = array(data.Population)"
     ],
     "language": "python",
     "metadata": {},
     "outputs": [],
     "prompt_number": 126
    },
    {
     "cell_type": "code",
     "collapsed": false,
     "input": [
      "population.shape"
     ],
     "language": "python",
     "metadata": {},
     "outputs": [
      {
       "output_type": "pyout",
       "prompt_number": 102,
       "text": [
        "(3173958,)"
       ]
      }
     ],
     "prompt_number": 102
    },
    {
     "cell_type": "code",
     "collapsed": false,
     "input": [
      "population[ny]"
     ],
     "language": "python",
     "metadata": {},
     "outputs": [
      {
       "output_type": "pyout",
       "prompt_number": 103,
       "text": [
        "8107916.0"
       ]
      }
     ],
     "prompt_number": 103
    },
    {
     "cell_type": "code",
     "collapsed": false,
     "input": [
      "sum(1 - isnan(population))"
     ],
     "language": "python",
     "metadata": {},
     "outputs": [
      {
       "output_type": "pyout",
       "prompt_number": 125,
       "text": [
        "47980"
       ]
      }
     ],
     "prompt_number": 125
    },
    {
     "cell_type": "code",
     "collapsed": false,
     "input": [
      "x = population[~_]"
     ],
     "language": "python",
     "metadata": {},
     "outputs": [],
     "prompt_number": 127
    },
    {
     "cell_type": "code",
     "collapsed": false,
     "input": [
      "len(x), len(x)/float(len(population))"
     ],
     "language": "python",
     "metadata": {},
     "outputs": [
      {
       "ename": "TypeError",
       "evalue": "object of type 'numpy.float64' has no len()",
       "output_type": "pyerr",
       "traceback": [
        "\u001b[0;31m---------------------------------------------------------------------------\u001b[0m\n\u001b[0;31mTypeError\u001b[0m                                 Traceback (most recent call last)",
        "\u001b[0;32m<ipython-input-130-491a9bd444aa>\u001b[0m in \u001b[0;36m<module>\u001b[0;34m()\u001b[0m\n\u001b[0;32m----> 1\u001b[0;31m \u001b[0mlen\u001b[0m\u001b[0;34m(\u001b[0m\u001b[0mx\u001b[0m\u001b[0;34m)\u001b[0m\u001b[0;34m,\u001b[0m \u001b[0mlen\u001b[0m\u001b[0;34m(\u001b[0m\u001b[0mx\u001b[0m\u001b[0;34m)\u001b[0m\u001b[0;34m/\u001b[0m\u001b[0mfloat\u001b[0m\u001b[0;34m(\u001b[0m\u001b[0mlen\u001b[0m\u001b[0;34m(\u001b[0m\u001b[0mpopulation\u001b[0m\u001b[0;34m)\u001b[0m\u001b[0;34m)\u001b[0m\u001b[0;34m\u001b[0m\u001b[0m\n\u001b[0m",
        "\u001b[0;31mTypeError\u001b[0m: object of type 'numpy.float64' has no len()"
       ]
      }
     ],
     "prompt_number": 130
    },
    {
     "cell_type": "markdown",
     "metadata": {},
     "source": [
      "Views"
     ]
    },
    {
     "cell_type": "code",
     "collapsed": false,
     "input": [
      "x = rand(5); x"
     ],
     "language": "python",
     "metadata": {},
     "outputs": [
      {
       "output_type": "pyout",
       "prompt_number": 131,
       "text": [
        "array([ 0.34893065,  0.23750285,  0.04166815,  0.31848057,  0.77538395])"
       ]
      }
     ],
     "prompt_number": 131
    },
    {
     "cell_type": "code",
     "collapsed": false,
     "input": [
      "y = x[::2]; y"
     ],
     "language": "python",
     "metadata": {},
     "outputs": [
      {
       "output_type": "pyout",
       "prompt_number": 132,
       "text": [
        "array([ 0.34893065,  0.04166815,  0.77538395])"
       ]
      }
     ],
     "prompt_number": 132
    },
    {
     "cell_type": "code",
     "collapsed": false,
     "input": [
      "y[0] = 1; x"
     ],
     "language": "python",
     "metadata": {},
     "outputs": [
      {
       "output_type": "pyout",
       "prompt_number": 133,
       "text": [
        "array([ 1.        ,  0.23750285,  0.04166815,  0.31848057,  0.77538395])"
       ]
      }
     ],
     "prompt_number": 133
    },
    {
     "cell_type": "code",
     "collapsed": false,
     "input": [
      "y = x.copy()\n",
      "z = array(x)\n",
      "print y, z"
     ],
     "language": "python",
     "metadata": {},
     "outputs": [
      {
       "output_type": "stream",
       "stream": "stdout",
       "text": [
        "[ 1.          0.23750285  0.04166815  0.31848057  0.77538395] [ 1.          0.23750285  0.04166815  0.31848057  0.77538395]\n"
       ]
      }
     ],
     "prompt_number": 135
    },
    {
     "cell_type": "code",
     "collapsed": false,
     "input": [
      "ind = [0, 1, 0, 2]"
     ],
     "language": "python",
     "metadata": {},
     "outputs": [],
     "prompt_number": 136
    },
    {
     "cell_type": "code",
     "collapsed": false,
     "input": [
      "x[ind]"
     ],
     "language": "python",
     "metadata": {},
     "outputs": [
      {
       "output_type": "pyout",
       "prompt_number": 137,
       "text": [
        "array([ 1.        ,  0.23750285,  1.        ,  0.04166815])"
       ]
      }
     ],
     "prompt_number": 137
    },
    {
     "cell_type": "markdown",
     "metadata": {},
     "source": [
      "---"
     ]
    },
    {
     "cell_type": "code",
     "collapsed": false,
     "input": [
      "x = rand(6); x"
     ],
     "language": "python",
     "metadata": {},
     "outputs": [
      {
       "output_type": "pyout",
       "prompt_number": 138,
       "text": [
        "array([ 0.48047438,  0.33705905,  0.35312031,  0.70541943,  0.47897635,\n",
        "        0.51386445])"
       ]
      }
     ],
     "prompt_number": 138
    },
    {
     "cell_type": "code",
     "collapsed": false,
     "input": [
      "y = x.reshape((2,3)); y"
     ],
     "language": "python",
     "metadata": {},
     "outputs": [
      {
       "output_type": "pyout",
       "prompt_number": 140,
       "text": [
        "array([[ 0.48047438,  0.33705905,  0.35312031],\n",
        "       [ 0.70541943,  0.47897635,  0.51386445]])"
       ]
      }
     ],
     "prompt_number": 140
    },
    {
     "cell_type": "code",
     "collapsed": false,
     "input": [
      "z = y.ravel(); z"
     ],
     "language": "python",
     "metadata": {},
     "outputs": [
      {
       "output_type": "pyout",
       "prompt_number": 141,
       "text": [
        "array([ 0.48047438,  0.33705905,  0.35312031,  0.70541943,  0.47897635,\n",
        "        0.51386445])"
       ]
      }
     ],
     "prompt_number": 141
    },
    {
     "cell_type": "markdown",
     "metadata": {},
     "source": [
      "---"
     ]
    },
    {
     "cell_type": "code",
     "collapsed": false,
     "input": [
      "x = arange(3); x"
     ],
     "language": "python",
     "metadata": {},
     "outputs": [
      {
       "output_type": "pyout",
       "prompt_number": 146,
       "text": [
        "array([0, 1, 2])"
       ]
      }
     ],
     "prompt_number": 146
    },
    {
     "cell_type": "code",
     "collapsed": false,
     "input": [
      "tile(x, (2, 1))"
     ],
     "language": "python",
     "metadata": {},
     "outputs": [
      {
       "output_type": "pyout",
       "prompt_number": 147,
       "text": [
        "array([[0, 1, 2],\n",
        "       [0, 1, 2]])"
       ]
      }
     ],
     "prompt_number": 147
    },
    {
     "cell_type": "code",
     "collapsed": false,
     "input": [
      "repeat(x, 4)"
     ],
     "language": "python",
     "metadata": {},
     "outputs": [
      {
       "output_type": "pyout",
       "prompt_number": 149,
       "text": [
        "array([0, 0, 0, 0, 1, 1, 1, 1, 2, 2, 2, 2])"
       ]
      }
     ],
     "prompt_number": 149
    },
    {
     "cell_type": "code",
     "collapsed": false,
     "input": [
      "def mul2(n): # using broadcasting\n",
      "    row = arange(1,n+1)\n",
      "    col = arange(1,n+1).reshape(n,1)\n",
      "    return row * col"
     ],
     "language": "python",
     "metadata": {},
     "outputs": [],
     "prompt_number": 162
    },
    {
     "cell_type": "code",
     "collapsed": false,
     "input": [
      "mul2(4)"
     ],
     "language": "python",
     "metadata": {},
     "outputs": [
      {
       "output_type": "pyout",
       "prompt_number": 163,
       "text": [
        "array([[ 1,  2,  3,  4],\n",
        "       [ 2,  4,  6,  8],\n",
        "       [ 3,  6,  9, 12],\n",
        "       [ 4,  8, 12, 16]])"
       ]
      }
     ],
     "prompt_number": 163
    },
    {
     "cell_type": "code",
     "collapsed": false,
     "input": [
      "timeit mul2(100)"
     ],
     "language": "python",
     "metadata": {},
     "outputs": [
      {
       "output_type": "stream",
       "stream": "stdout",
       "text": [
        "10000 loops, best of 3: 25.7 us per loop\n"
       ]
      }
     ],
     "prompt_number": 164
    },
    {
     "cell_type": "code",
     "collapsed": false,
     "input": [
      "def mul3(n):\n",
      "    M = arange(1, n+1).reshape((-1, 1))\n",
      "    M = tile(M, (1, n))\n",
      "    N = arange(1, n+1).reshape((1, -1))\n",
      "    N = tile(N, (n, 1))\n",
      "    return M * N"
     ],
     "language": "python",
     "metadata": {},
     "outputs": [],
     "prompt_number": 165
    },
    {
     "cell_type": "code",
     "collapsed": false,
     "input": [
      "timeit mul3(100)"
     ],
     "language": "python",
     "metadata": {},
     "outputs": [
      {
       "output_type": "stream",
       "stream": "stdout",
       "text": [
        "10000 loops, best of 3: 87.5 us per loop\n"
       ]
      }
     ],
     "prompt_number": 166
    },
    {
     "cell_type": "code",
     "collapsed": false,
     "input": [
      "87.5/25.7 # 3.4 times faster than the book if we use broadcasting"
     ],
     "language": "python",
     "metadata": {},
     "outputs": [
      {
       "output_type": "pyout",
       "prompt_number": 169,
       "text": [
        "3.404669260700389"
       ]
      }
     ],
     "prompt_number": 169
    },
    {
     "cell_type": "markdown",
     "metadata": {},
     "source": [
      "Split"
     ]
    },
    {
     "cell_type": "code",
     "collapsed": false,
     "input": [
      "x = arange(6)"
     ],
     "language": "python",
     "metadata": {},
     "outputs": [],
     "prompt_number": 172
    },
    {
     "cell_type": "code",
     "collapsed": false,
     "input": [
      "split(x,2)"
     ],
     "language": "python",
     "metadata": {},
     "outputs": [
      {
       "output_type": "pyout",
       "prompt_number": 173,
       "text": [
        "[array([0, 1, 2]), array([3, 4, 5])]"
       ]
      }
     ],
     "prompt_number": 173
    },
    {
     "cell_type": "code",
     "collapsed": false,
     "input": [
      "split(x, [2, 5]) # starting indices of the subarrays except the 1st"
     ],
     "language": "python",
     "metadata": {},
     "outputs": [
      {
       "output_type": "pyout",
       "prompt_number": 174,
       "text": [
        "[array([0, 1]), array([2, 3, 4]), array([5])]"
       ]
      }
     ],
     "prompt_number": 174
    },
    {
     "cell_type": "markdown",
     "metadata": {},
     "source": [
      "---"
     ]
    },
    {
     "cell_type": "code",
     "collapsed": false,
     "input": [
      "def locate(x, y):\n",
      "    \"\"\" Return the city closest to the given location. \"\"\"\n",
      "    locations = data[['Latitude', 'Longitude']].as_matrix() # !!!\n",
      "    d = locations - array([x, y])\n",
      "    distances = d[:,0]**2 + d[:,1]**2\n",
      "    closest = distances.argmin()\n",
      "    return data.AccentCity[closest]"
     ],
     "language": "python",
     "metadata": {},
     "outputs": [],
     "prompt_number": 234
    },
    {
     "cell_type": "code",
     "collapsed": false,
     "input": [
      "print locate(48.861, 2.3358)"
     ],
     "language": "python",
     "metadata": {},
     "outputs": [
      {
       "output_type": "stream",
       "stream": "stdout",
       "text": [
        "Paris\n"
       ]
      }
     ],
     "prompt_number": 235
    },
    {
     "cell_type": "markdown",
     "metadata": {},
     "source": [
      "---"
     ]
    },
    {
     "cell_type": "code",
     "collapsed": false,
     "input": [
      "a = [2, 4, 64, 93449, 5, 94249, 394, 221]; a"
     ],
     "language": "python",
     "metadata": {},
     "outputs": [
      {
       "output_type": "pyout",
       "prompt_number": 182,
       "text": [
        "[2, 4, 64, 93449, 5, 94249, 394, 221]"
       ]
      }
     ],
     "prompt_number": 182
    },
    {
     "cell_type": "code",
     "collapsed": false,
     "input": [
      "array(a)[[0, 3]]"
     ],
     "language": "python",
     "metadata": {},
     "outputs": [
      {
       "output_type": "pyout",
       "prompt_number": 183,
       "text": [
        "array([    2, 93449])"
       ]
      }
     ],
     "prompt_number": 183
    },
    {
     "cell_type": "code",
     "collapsed": false,
     "input": [
      "b = rand(5,5); b"
     ],
     "language": "python",
     "metadata": {},
     "outputs": [
      {
       "output_type": "pyout",
       "prompt_number": 221,
       "text": [
        "array([[ 0.27576495,  0.41783964,  0.37600412,  0.07658866,  0.8082994 ],\n",
        "       [ 0.53723549,  0.94009937,  0.38552889,  0.95726354,  0.27087212],\n",
        "       [ 0.50706751,  0.37160832,  0.16437208,  0.08668012,  0.79990792],\n",
        "       [ 0.60621513,  0.54430786,  0.0280515 ,  0.33886399,  0.97196962],\n",
        "       [ 0.32431163,  0.24808972,  0.98717261,  0.6117578 ,  0.15646652]])"
       ]
      }
     ],
     "prompt_number": 221
    },
    {
     "cell_type": "code",
     "collapsed": false,
     "input": [
      "b[[0, 2]]"
     ],
     "language": "python",
     "metadata": {},
     "outputs": [
      {
       "output_type": "pyout",
       "prompt_number": 233,
       "text": [
        "array([[ 0.27576495,  0.41783964,  0.37600412,  0.07658866,  0.8082994 ],\n",
        "       [ 0.50706751,  0.37160832,  0.16437208,  0.08668012,  0.79990792]])"
       ]
      }
     ],
     "prompt_number": 233
    },
    {
     "cell_type": "code",
     "collapsed": false,
     "input": [
      "b.T[[0, 2]].T # !!!"
     ],
     "language": "python",
     "metadata": {},
     "outputs": [
      {
       "output_type": "pyout",
       "prompt_number": 228,
       "text": [
        "array([[ 0.27576495,  0.37600412],\n",
        "       [ 0.53723549,  0.38552889],\n",
        "       [ 0.50706751,  0.16437208],\n",
        "       [ 0.60621513,  0.0280515 ],\n",
        "       [ 0.32431163,  0.98717261]])"
       ]
      }
     ],
     "prompt_number": 228
    },
    {
     "cell_type": "markdown",
     "metadata": {},
     "source": [
      "---"
     ]
    },
    {
     "cell_type": "code",
     "collapsed": false,
     "input": [
      "data.Population.describe()"
     ],
     "language": "python",
     "metadata": {},
     "outputs": [
      {
       "output_type": "pyout",
       "prompt_number": 237,
       "text": [
        "count       47980.000000\n",
        "mean        47719.570634\n",
        "std        302888.715626\n",
        "min             7.000000\n",
        "25%          3732.000000\n",
        "50%         10779.000000\n",
        "75%         27990.500000\n",
        "max      31480498.000000\n",
        "dtype: float64"
       ]
      }
     ],
     "prompt_number": 237
    },
    {
     "cell_type": "markdown",
     "metadata": {},
     "source": [
      "---"
     ]
    },
    {
     "cell_type": "markdown",
     "metadata": {},
     "source": [
      "---"
     ]
    },
    {
     "cell_type": "code",
     "collapsed": false,
     "input": [
      "import pandas as pd"
     ],
     "language": "python",
     "metadata": {},
     "outputs": [],
     "prompt_number": 1
    },
    {
     "cell_type": "code",
     "collapsed": false,
     "input": [
      "adfile = 'bidtest-e.csv'"
     ],
     "language": "python",
     "metadata": {},
     "outputs": [],
     "prompt_number": 2
    },
    {
     "cell_type": "code",
     "collapsed": false,
     "input": [
      "addata = pd.read_csv(adfile)"
     ],
     "language": "python",
     "metadata": {},
     "outputs": [],
     "prompt_number": 3
    },
    {
     "cell_type": "code",
     "collapsed": false,
     "input": [
      "addata.describe()"
     ],
     "language": "python",
     "metadata": {},
     "outputs": [
      {
       "html": [
        "<pre>\n",
        "&ltclass 'pandas.core.frame.DataFrame'&gt\n",
        "Index: 8 entries, count to max\n",
        "Data columns (total 16 columns):\n",
        "Campaign ID           8  non-null values\n",
        "Impressions           8  non-null values\n",
        "Social Impressions    8  non-null values\n",
        "Clicks                8  non-null values\n",
        "Social Clicks         8  non-null values\n",
        "CPC                   8  non-null values\n",
        "CPM                   8  non-null values\n",
        "Spent                 8  non-null values\n",
        "Reach                 8  non-null values\n",
        "Frequency             8  non-null values\n",
        "Social Reach          8  non-null values\n",
        "Actions               8  non-null values\n",
        "Page Likes            8  non-null values\n",
        "App Installs          1  non-null values\n",
        "Event Responses       1  non-null values\n",
        "Unique Clicks         8  non-null values\n",
        "dtypes: float64(16)\n",
        "</pre>"
       ],
       "output_type": "pyout",
       "prompt_number": 4,
       "text": [
        "        Campaign ID   Impressions  Social Impressions      Clicks  \\\n",
        "count  5.500000e+01     55.000000           55.000000   55.000000   \n",
        "mean   6.012491e+12  12598.363636         7514.963636   76.727273   \n",
        "std    8.862782e+06  13682.616371         8985.343329   68.322616   \n",
        "min    6.012463e+12   1198.000000          521.000000   11.000000   \n",
        "25%    6.012494e+12   2436.500000         1387.000000   22.000000   \n",
        "50%    6.012494e+12   6175.000000         2903.000000   52.000000   \n",
        "75%    6.012494e+12  19386.500000        10975.000000  106.500000   \n",
        "max    6.012494e+12  50578.000000        36109.000000  255.000000   \n",
        "\n",
        "       Social Clicks        CPC        CPM      Spent         Reach  \\\n",
        "count      55.000000  55.000000  55.000000  55.000000     55.000000   \n",
        "mean       24.654545   0.107636   0.817273   8.953636   9382.036364   \n",
        "std        24.955678   0.016212   0.204310   8.845563   9322.592051   \n",
        "min         2.000000   0.080000   0.400000   1.040000   1055.000000   \n",
        "25%         8.000000   0.100000   0.675000   2.105000   2173.500000   \n",
        "50%        16.000000   0.110000   0.810000   5.700000   5560.000000   \n",
        "75%        31.000000   0.120000   0.950000  11.995000  15393.000000   \n",
        "max       110.000000   0.140000   1.330000  30.000000  33829.000000   \n",
        "\n",
        "       Frequency  Social Reach    Actions  Page Likes  App Installs  \\\n",
        "count  55.000000     55.000000  55.000000   55.000000             0   \n",
        "mean    1.245455   4488.181818  17.763636   12.454545           NaN   \n",
        "std     0.195143   4697.980977  19.918318   13.063688           NaN   \n",
        "min     1.000000    386.000000   0.000000    0.000000           NaN   \n",
        "25%     1.100000   1140.500000   5.000000    4.000000           NaN   \n",
        "50%     1.200000   2454.000000   9.000000    7.000000           NaN   \n",
        "75%     1.400000   6663.000000  23.500000   15.500000           NaN   \n",
        "max     1.700000  17943.000000  88.000000   50.000000           NaN   \n",
        "\n",
        "       Event Responses  Unique Clicks  \n",
        "count                0      55.000000  \n",
        "mean               NaN      76.218182  \n",
        "std                NaN      67.905896  \n",
        "min                NaN      11.000000  \n",
        "25%                NaN      21.500000  \n",
        "50%                NaN      52.000000  \n",
        "75%                NaN     105.500000  \n",
        "max                NaN     252.000000  "
       ]
      }
     ],
     "prompt_number": 4
    },
    {
     "cell_type": "code",
     "collapsed": false,
     "input": [
      "addata[addata.Campaign == 'Cevap Tv / Bid Test - 20'].head"
     ],
     "language": "python",
     "metadata": {},
     "outputs": [
      {
       "output_type": "pyout",
       "prompt_number": 5,
       "text": [
        "<bound method DataFrame.head of          \ufeffDate                  Campaign    Campaign ID  Impressions  \\\n",
        "0   08/19/2013  Cevap Tv / Bid Test - 20  6012463270255        26671   \n",
        "11  08/20/2013  Cevap Tv / Bid Test - 20  6012463270255        12357   \n",
        "22  08/21/2013  Cevap Tv / Bid Test - 20  6012463270255         6471   \n",
        "33  08/22/2013  Cevap Tv / Bid Test - 20  6012463270255        39990   \n",
        "44  08/23/2013  Cevap Tv / Bid Test - 20  6012463270255         4096   \n",
        "\n",
        "    Social Impressions Social %  Clicks  Social Clicks Click-Through Rate  \\\n",
        "0                12150   45.56%     194             63             0.727%   \n",
        "11                5736   46.42%     104             29             0.842%   \n",
        "22                3713   57.38%      71             32             1.097%   \n",
        "33               21430   53.59%     255            110             0.638%   \n",
        "44                2882   70.36%      41             23             1.001%   \n",
        "\n",
        "   Social CTR   CPC   CPM  Spent  Reach  Frequency  Social Reach  Actions  \\\n",
        "0      0.519%  0.10  0.75  20.00  25034        1.1         10992       33   \n",
        "11     0.506%  0.11  0.95  11.80  11576        1.1          5116       13   \n",
        "22     0.862%  0.10  1.08   6.96   6138        1.1          3345       15   \n",
        "33     0.513%  0.12  0.75  30.00  33829        1.2         15983       59   \n",
        "44     0.798%  0.08  0.84   3.43   3785        1.1          2519        7   \n",
        "\n",
        "    Page Likes  App Installs  Event Responses  Unique Clicks Unique CTR  \n",
        "0           16           NaN              NaN            194     0.775%  \n",
        "11           9           NaN              NaN            103     0.890%  \n",
        "22          10           NaN              NaN             71     1.157%  \n",
        "33          42           NaN              NaN            252     0.745%  \n",
        "44           6           NaN              NaN             41     1.083%  >"
       ]
      }
     ],
     "prompt_number": 5
    },
    {
     "cell_type": "code",
     "collapsed": false,
     "input": [
      "addata[addata.Campaign == 'Cevap Tv / Bid Test - 20']"
     ],
     "language": "python",
     "metadata": {},
     "outputs": [
      {
       "html": [
        "<pre>\n",
        "&ltclass 'pandas.core.frame.DataFrame'&gt\n",
        "Int64Index: 5 entries, 0 to 44\n",
        "Data columns (total 22 columns):\n",
        "\ufeffDate                 5  non-null values\n",
        "Campaign              5  non-null values\n",
        "Campaign ID           5  non-null values\n",
        "Impressions           5  non-null values\n",
        "Social Impressions    5  non-null values\n",
        "Social %              5  non-null values\n",
        "Clicks                5  non-null values\n",
        "Social Clicks         5  non-null values\n",
        "Click-Through Rate    5  non-null values\n",
        "Social CTR            5  non-null values\n",
        "CPC                   5  non-null values\n",
        "CPM                   5  non-null values\n",
        "Spent                 5  non-null values\n",
        "Reach                 5  non-null values\n",
        "Frequency             5  non-null values\n",
        "Social Reach          5  non-null values\n",
        "Actions               5  non-null values\n",
        "Page Likes            5  non-null values\n",
        "App Installs          0  non-null values\n",
        "Event Responses       0  non-null values\n",
        "Unique Clicks         5  non-null values\n",
        "Unique CTR            5  non-null values\n",
        "dtypes: float64(6), int64(10), object(6)\n",
        "</pre>"
       ],
       "output_type": "pyout",
       "prompt_number": 6,
       "text": [
        "         \ufeffDate                  Campaign    Campaign ID  Impressions  \\\n",
        "0   08/19/2013  Cevap Tv / Bid Test - 20  6012463270255        26671   \n",
        "11  08/20/2013  Cevap Tv / Bid Test - 20  6012463270255        12357   \n",
        "22  08/21/2013  Cevap Tv / Bid Test - 20  6012463270255         6471   \n",
        "33  08/22/2013  Cevap Tv / Bid Test - 20  6012463270255        39990   \n",
        "44  08/23/2013  Cevap Tv / Bid Test - 20  6012463270255         4096   \n",
        "\n",
        "    Social Impressions Social %  Clicks  Social Clicks Click-Through Rate  \\\n",
        "0                12150   45.56%     194             63             0.727%   \n",
        "11                5736   46.42%     104             29             0.842%   \n",
        "22                3713   57.38%      71             32             1.097%   \n",
        "33               21430   53.59%     255            110             0.638%   \n",
        "44                2882   70.36%      41             23             1.001%   \n",
        "\n",
        "   Social CTR   CPC   CPM  Spent  Reach  Frequency  Social Reach  Actions  \\\n",
        "0      0.519%  0.10  0.75  20.00  25034        1.1         10992       33   \n",
        "11     0.506%  0.11  0.95  11.80  11576        1.1          5116       13   \n",
        "22     0.862%  0.10  1.08   6.96   6138        1.1          3345       15   \n",
        "33     0.513%  0.12  0.75  30.00  33829        1.2         15983       59   \n",
        "44     0.798%  0.08  0.84   3.43   3785        1.1          2519        7   \n",
        "\n",
        "    Page Likes  App Installs  Event Responses  Unique Clicks Unique CTR  \n",
        "0           16           NaN              NaN            194     0.775%  \n",
        "11           9           NaN              NaN            103     0.890%  \n",
        "22          10           NaN              NaN             71     1.157%  \n",
        "33          42           NaN              NaN            252     0.745%  \n",
        "44           6           NaN              NaN             41     1.083%  "
       ]
      }
     ],
     "prompt_number": 6
    },
    {
     "cell_type": "code",
     "collapsed": false,
     "input": [
      "addata.columns"
     ],
     "language": "python",
     "metadata": {},
     "outputs": [
      {
       "output_type": "pyout",
       "prompt_number": 36,
       "text": [
        "Index([\ufeffDate, Campaign, Campaign ID, Impressions, Social Impressions, Social %, Clicks, Social Clicks, Click-Through Rate, Social CTR, CPC, CPM, Spent, Reach, Frequency, Social Reach, Actions, Page Likes, App Installs, Event Responses, Unique Clicks, Unique CTR], dtype=object)"
       ]
      }
     ],
     "prompt_number": 36
    },
    {
     "cell_type": "code",
     "collapsed": false,
     "input": [
      "data20 = addata[addata.Campaign == 'Cevap Tv / Bid Test - 20']; data20"
     ],
     "language": "python",
     "metadata": {},
     "outputs": [
      {
       "html": [
        "<pre>\n",
        "&ltclass 'pandas.core.frame.DataFrame'&gt\n",
        "Int64Index: 5 entries, 0 to 44\n",
        "Data columns (total 22 columns):\n",
        "\ufeffDate                 5  non-null values\n",
        "Campaign              5  non-null values\n",
        "Campaign ID           5  non-null values\n",
        "Impressions           5  non-null values\n",
        "Social Impressions    5  non-null values\n",
        "Social %              5  non-null values\n",
        "Clicks                5  non-null values\n",
        "Social Clicks         5  non-null values\n",
        "Click-Through Rate    5  non-null values\n",
        "Social CTR            5  non-null values\n",
        "CPC                   5  non-null values\n",
        "CPM                   5  non-null values\n",
        "Spent                 5  non-null values\n",
        "Reach                 5  non-null values\n",
        "Frequency             5  non-null values\n",
        "Social Reach          5  non-null values\n",
        "Actions               5  non-null values\n",
        "Page Likes            5  non-null values\n",
        "App Installs          0  non-null values\n",
        "Event Responses       0  non-null values\n",
        "Unique Clicks         5  non-null values\n",
        "Unique CTR            5  non-null values\n",
        "dtypes: float64(6), int64(10), object(6)\n",
        "</pre>"
       ],
       "output_type": "pyout",
       "prompt_number": 37,
       "text": [
        "         \ufeffDate                  Campaign    Campaign ID  Impressions  \\\n",
        "0   08/19/2013  Cevap Tv / Bid Test - 20  6012463270255        26671   \n",
        "11  08/20/2013  Cevap Tv / Bid Test - 20  6012463270255        12357   \n",
        "22  08/21/2013  Cevap Tv / Bid Test - 20  6012463270255         6471   \n",
        "33  08/22/2013  Cevap Tv / Bid Test - 20  6012463270255        39990   \n",
        "44  08/23/2013  Cevap Tv / Bid Test - 20  6012463270255         4096   \n",
        "\n",
        "    Social Impressions Social %  Clicks  Social Clicks Click-Through Rate  \\\n",
        "0                12150   45.56%     194             63             0.727%   \n",
        "11                5736   46.42%     104             29             0.842%   \n",
        "22                3713   57.38%      71             32             1.097%   \n",
        "33               21430   53.59%     255            110             0.638%   \n",
        "44                2882   70.36%      41             23             1.001%   \n",
        "\n",
        "   Social CTR   CPC   CPM  Spent  Reach  Frequency  Social Reach  Actions  \\\n",
        "0      0.519%  0.10  0.75  20.00  25034        1.1         10992       33   \n",
        "11     0.506%  0.11  0.95  11.80  11576        1.1          5116       13   \n",
        "22     0.862%  0.10  1.08   6.96   6138        1.1          3345       15   \n",
        "33     0.513%  0.12  0.75  30.00  33829        1.2         15983       59   \n",
        "44     0.798%  0.08  0.84   3.43   3785        1.1          2519        7   \n",
        "\n",
        "    Page Likes  App Installs  Event Responses  Unique Clicks Unique CTR  \n",
        "0           16           NaN              NaN            194     0.775%  \n",
        "11           9           NaN              NaN            103     0.890%  \n",
        "22          10           NaN              NaN             71     1.157%  \n",
        "33          42           NaN              NaN            252     0.745%  \n",
        "44           6           NaN              NaN             41     1.083%  "
       ]
      }
     ],
     "prompt_number": 37
    },
    {
     "cell_type": "code",
     "collapsed": false,
     "input": [
      "perfdata20 = data20[['Campaign', 'Clicks', 'CPC', 'Spent', 'Page Likes']]; perfdata20"
     ],
     "language": "python",
     "metadata": {},
     "outputs": [
      {
       "html": [
        "<div style=\"max-height:1000px;max-width:1500px;overflow:auto;\">\n",
        "<table border=\"1\" class=\"dataframe\">\n",
        "  <thead>\n",
        "    <tr style=\"text-align: right;\">\n",
        "      <th></th>\n",
        "      <th>Campaign</th>\n",
        "      <th>Clicks</th>\n",
        "      <th>CPC</th>\n",
        "      <th>Spent</th>\n",
        "      <th>Page Likes</th>\n",
        "    </tr>\n",
        "  </thead>\n",
        "  <tbody>\n",
        "    <tr>\n",
        "      <th>0 </th>\n",
        "      <td> Cevap Tv / Bid Test - 20</td>\n",
        "      <td> 194</td>\n",
        "      <td> 0.10</td>\n",
        "      <td> 20.00</td>\n",
        "      <td> 16</td>\n",
        "    </tr>\n",
        "    <tr>\n",
        "      <th>11</th>\n",
        "      <td> Cevap Tv / Bid Test - 20</td>\n",
        "      <td> 104</td>\n",
        "      <td> 0.11</td>\n",
        "      <td> 11.80</td>\n",
        "      <td>  9</td>\n",
        "    </tr>\n",
        "    <tr>\n",
        "      <th>22</th>\n",
        "      <td> Cevap Tv / Bid Test - 20</td>\n",
        "      <td>  71</td>\n",
        "      <td> 0.10</td>\n",
        "      <td>  6.96</td>\n",
        "      <td> 10</td>\n",
        "    </tr>\n",
        "    <tr>\n",
        "      <th>33</th>\n",
        "      <td> Cevap Tv / Bid Test - 20</td>\n",
        "      <td> 255</td>\n",
        "      <td> 0.12</td>\n",
        "      <td> 30.00</td>\n",
        "      <td> 42</td>\n",
        "    </tr>\n",
        "    <tr>\n",
        "      <th>44</th>\n",
        "      <td> Cevap Tv / Bid Test - 20</td>\n",
        "      <td>  41</td>\n",
        "      <td> 0.08</td>\n",
        "      <td>  3.43</td>\n",
        "      <td>  6</td>\n",
        "    </tr>\n",
        "  </tbody>\n",
        "</table>\n",
        "</div>"
       ],
       "output_type": "pyout",
       "prompt_number": 38,
       "text": [
        "                    Campaign  Clicks   CPC  Spent  Page Likes\n",
        "0   Cevap Tv / Bid Test - 20     194  0.10  20.00          16\n",
        "11  Cevap Tv / Bid Test - 20     104  0.11  11.80           9\n",
        "22  Cevap Tv / Bid Test - 20      71  0.10   6.96          10\n",
        "33  Cevap Tv / Bid Test - 20     255  0.12  30.00          42\n",
        "44  Cevap Tv / Bid Test - 20      41  0.08   3.43           6"
       ]
      }
     ],
     "prompt_number": 38
    },
    {
     "cell_type": "markdown",
     "metadata": {},
     "source": [
      "---"
     ]
    },
    {
     "cell_type": "markdown",
     "metadata": {},
     "source": [
      "10m P"
     ]
    },
    {
     "cell_type": "code",
     "collapsed": false,
     "input": [
      "import pandas as pd"
     ],
     "language": "python",
     "metadata": {},
     "outputs": [],
     "prompt_number": 7
    },
    {
     "cell_type": "code",
     "collapsed": false,
     "input": [
      "import numpy as np"
     ],
     "language": "python",
     "metadata": {},
     "outputs": [],
     "prompt_number": 8
    },
    {
     "cell_type": "code",
     "collapsed": false,
     "input": [
      "s = pd.Series([1, 3, 5, np.nan, 6, 8]); s"
     ],
     "language": "python",
     "metadata": {},
     "outputs": [
      {
       "output_type": "pyout",
       "prompt_number": 10,
       "text": [
        "0     1\n",
        "1     3\n",
        "2     5\n",
        "3   NaN\n",
        "4     6\n",
        "5     8\n",
        "dtype: float64"
       ]
      }
     ],
     "prompt_number": 10
    },
    {
     "cell_type": "markdown",
     "metadata": {},
     "source": [
      "---"
     ]
    },
    {
     "cell_type": "code",
     "collapsed": false,
     "input": [
      "dates = pd.date_range('20130101', periods=6); dates"
     ],
     "language": "python",
     "metadata": {},
     "outputs": [
      {
       "output_type": "pyout",
       "prompt_number": 11,
       "text": [
        "<class 'pandas.tseries.index.DatetimeIndex'>\n",
        "[2013-01-01 00:00:00, ..., 2013-01-06 00:00:00]\n",
        "Length: 6, Freq: D, Timezone: None"
       ]
      }
     ],
     "prompt_number": 11
    },
    {
     "cell_type": "code",
     "collapsed": false,
     "input": [
      "df = pd.DataFrame(np.random.randn(6,4), index=dates, columns=list('ABCD')); df"
     ],
     "language": "python",
     "metadata": {},
     "outputs": [
      {
       "html": [
        "<div style=\"max-height:1000px;max-width:1500px;overflow:auto;\">\n",
        "<table border=\"1\" class=\"dataframe\">\n",
        "  <thead>\n",
        "    <tr style=\"text-align: right;\">\n",
        "      <th></th>\n",
        "      <th>A</th>\n",
        "      <th>B</th>\n",
        "      <th>C</th>\n",
        "      <th>D</th>\n",
        "    </tr>\n",
        "  </thead>\n",
        "  <tbody>\n",
        "    <tr>\n",
        "      <th>2013-01-01</th>\n",
        "      <td> 0.261933</td>\n",
        "      <td> 1.333238</td>\n",
        "      <td> 0.261987</td>\n",
        "      <td>-0.767643</td>\n",
        "    </tr>\n",
        "    <tr>\n",
        "      <th>2013-01-02</th>\n",
        "      <td>-1.298499</td>\n",
        "      <td> 1.237161</td>\n",
        "      <td> 0.288860</td>\n",
        "      <td>-0.491318</td>\n",
        "    </tr>\n",
        "    <tr>\n",
        "      <th>2013-01-03</th>\n",
        "      <td>-0.245996</td>\n",
        "      <td>-0.089789</td>\n",
        "      <td>-0.458865</td>\n",
        "      <td> 0.704302</td>\n",
        "    </tr>\n",
        "    <tr>\n",
        "      <th>2013-01-04</th>\n",
        "      <td> 1.424923</td>\n",
        "      <td>-1.434915</td>\n",
        "      <td> 2.187872</td>\n",
        "      <td> 1.131349</td>\n",
        "    </tr>\n",
        "    <tr>\n",
        "      <th>2013-01-05</th>\n",
        "      <td>-0.928424</td>\n",
        "      <td>-0.365961</td>\n",
        "      <td>-1.067766</td>\n",
        "      <td>-1.275187</td>\n",
        "    </tr>\n",
        "    <tr>\n",
        "      <th>2013-01-06</th>\n",
        "      <td>-0.696820</td>\n",
        "      <td> 0.538560</td>\n",
        "      <td>-1.043366</td>\n",
        "      <td>-0.047781</td>\n",
        "    </tr>\n",
        "  </tbody>\n",
        "</table>\n",
        "</div>"
       ],
       "output_type": "pyout",
       "prompt_number": 12,
       "text": [
        "                   A         B         C         D\n",
        "2013-01-01  0.261933  1.333238  0.261987 -0.767643\n",
        "2013-01-02 -1.298499  1.237161  0.288860 -0.491318\n",
        "2013-01-03 -0.245996 -0.089789 -0.458865  0.704302\n",
        "2013-01-04  1.424923 -1.434915  2.187872  1.131349\n",
        "2013-01-05 -0.928424 -0.365961 -1.067766 -1.275187\n",
        "2013-01-06 -0.696820  0.538560 -1.043366 -0.047781"
       ]
      }
     ],
     "prompt_number": 12
    },
    {
     "cell_type": "markdown",
     "metadata": {},
     "source": [
      "---"
     ]
    },
    {
     "cell_type": "code",
     "collapsed": false,
     "input": [
      "df2 = pd.DataFrame({ 'A' : 1.,\n",
      "                     'B' : pd.Timestamp('20130102'),\n",
      "                     'C' : pd.Series(1, index=range(4), dtype='float32'),\n",
      "                     'D' : np.array([3] * 4, dtype='int32'),\n",
      "                     'E' : 'foo' }); df2"
     ],
     "language": "python",
     "metadata": {},
     "outputs": [
      {
       "html": [
        "<div style=\"max-height:1000px;max-width:1500px;overflow:auto;\">\n",
        "<table border=\"1\" class=\"dataframe\">\n",
        "  <thead>\n",
        "    <tr style=\"text-align: right;\">\n",
        "      <th></th>\n",
        "      <th>A</th>\n",
        "      <th>B</th>\n",
        "      <th>C</th>\n",
        "      <th>D</th>\n",
        "      <th>E</th>\n",
        "    </tr>\n",
        "  </thead>\n",
        "  <tbody>\n",
        "    <tr>\n",
        "      <th>0</th>\n",
        "      <td> 1</td>\n",
        "      <td>2013-01-02 00:00:00</td>\n",
        "      <td> 1</td>\n",
        "      <td> 3</td>\n",
        "      <td> foo</td>\n",
        "    </tr>\n",
        "    <tr>\n",
        "      <th>1</th>\n",
        "      <td> 1</td>\n",
        "      <td>2013-01-02 00:00:00</td>\n",
        "      <td> 1</td>\n",
        "      <td> 3</td>\n",
        "      <td> foo</td>\n",
        "    </tr>\n",
        "    <tr>\n",
        "      <th>2</th>\n",
        "      <td> 1</td>\n",
        "      <td>2013-01-02 00:00:00</td>\n",
        "      <td> 1</td>\n",
        "      <td> 3</td>\n",
        "      <td> foo</td>\n",
        "    </tr>\n",
        "    <tr>\n",
        "      <th>3</th>\n",
        "      <td> 1</td>\n",
        "      <td>2013-01-02 00:00:00</td>\n",
        "      <td> 1</td>\n",
        "      <td> 3</td>\n",
        "      <td> foo</td>\n",
        "    </tr>\n",
        "  </tbody>\n",
        "</table>\n",
        "</div>"
       ],
       "output_type": "pyout",
       "prompt_number": 13,
       "text": [
        "   A                   B  C  D    E\n",
        "0  1 2013-01-02 00:00:00  1  3  foo\n",
        "1  1 2013-01-02 00:00:00  1  3  foo\n",
        "2  1 2013-01-02 00:00:00  1  3  foo\n",
        "3  1 2013-01-02 00:00:00  1  3  foo"
       ]
      }
     ],
     "prompt_number": 13
    },
    {
     "cell_type": "code",
     "collapsed": false,
     "input": [
      "df2.dtypes"
     ],
     "language": "python",
     "metadata": {},
     "outputs": [
      {
       "output_type": "pyout",
       "prompt_number": 14,
       "text": [
        "A           float64\n",
        "B    datetime64[ns]\n",
        "C           float32\n",
        "D             int32\n",
        "E            object\n",
        "dtype: object"
       ]
      }
     ],
     "prompt_number": 14
    },
    {
     "cell_type": "markdown",
     "metadata": {},
     "source": [
      "---"
     ]
    },
    {
     "cell_type": "code",
     "collapsed": false,
     "input": [
      "df.head()"
     ],
     "language": "python",
     "metadata": {},
     "outputs": [
      {
       "html": [
        "<div style=\"max-height:1000px;max-width:1500px;overflow:auto;\">\n",
        "<table border=\"1\" class=\"dataframe\">\n",
        "  <thead>\n",
        "    <tr style=\"text-align: right;\">\n",
        "      <th></th>\n",
        "      <th>A</th>\n",
        "      <th>B</th>\n",
        "      <th>C</th>\n",
        "      <th>D</th>\n",
        "    </tr>\n",
        "  </thead>\n",
        "  <tbody>\n",
        "    <tr>\n",
        "      <th>2013-01-01</th>\n",
        "      <td> 0.261933</td>\n",
        "      <td> 1.333238</td>\n",
        "      <td> 0.261987</td>\n",
        "      <td>-0.767643</td>\n",
        "    </tr>\n",
        "    <tr>\n",
        "      <th>2013-01-02</th>\n",
        "      <td>-1.298499</td>\n",
        "      <td> 1.237161</td>\n",
        "      <td> 0.288860</td>\n",
        "      <td>-0.491318</td>\n",
        "    </tr>\n",
        "    <tr>\n",
        "      <th>2013-01-03</th>\n",
        "      <td>-0.245996</td>\n",
        "      <td>-0.089789</td>\n",
        "      <td>-0.458865</td>\n",
        "      <td> 0.704302</td>\n",
        "    </tr>\n",
        "    <tr>\n",
        "      <th>2013-01-04</th>\n",
        "      <td> 1.424923</td>\n",
        "      <td>-1.434915</td>\n",
        "      <td> 2.187872</td>\n",
        "      <td> 1.131349</td>\n",
        "    </tr>\n",
        "    <tr>\n",
        "      <th>2013-01-05</th>\n",
        "      <td>-0.928424</td>\n",
        "      <td>-0.365961</td>\n",
        "      <td>-1.067766</td>\n",
        "      <td>-1.275187</td>\n",
        "    </tr>\n",
        "  </tbody>\n",
        "</table>\n",
        "</div>"
       ],
       "output_type": "pyout",
       "prompt_number": 15,
       "text": [
        "                   A         B         C         D\n",
        "2013-01-01  0.261933  1.333238  0.261987 -0.767643\n",
        "2013-01-02 -1.298499  1.237161  0.288860 -0.491318\n",
        "2013-01-03 -0.245996 -0.089789 -0.458865  0.704302\n",
        "2013-01-04  1.424923 -1.434915  2.187872  1.131349\n",
        "2013-01-05 -0.928424 -0.365961 -1.067766 -1.275187"
       ]
      }
     ],
     "prompt_number": 15
    },
    {
     "cell_type": "code",
     "collapsed": false,
     "input": [
      "df.tail(3)"
     ],
     "language": "python",
     "metadata": {},
     "outputs": [
      {
       "html": [
        "<div style=\"max-height:1000px;max-width:1500px;overflow:auto;\">\n",
        "<table border=\"1\" class=\"dataframe\">\n",
        "  <thead>\n",
        "    <tr style=\"text-align: right;\">\n",
        "      <th></th>\n",
        "      <th>A</th>\n",
        "      <th>B</th>\n",
        "      <th>C</th>\n",
        "      <th>D</th>\n",
        "    </tr>\n",
        "  </thead>\n",
        "  <tbody>\n",
        "    <tr>\n",
        "      <th>2013-01-04</th>\n",
        "      <td> 1.424923</td>\n",
        "      <td>-1.434915</td>\n",
        "      <td> 2.187872</td>\n",
        "      <td> 1.131349</td>\n",
        "    </tr>\n",
        "    <tr>\n",
        "      <th>2013-01-05</th>\n",
        "      <td>-0.928424</td>\n",
        "      <td>-0.365961</td>\n",
        "      <td>-1.067766</td>\n",
        "      <td>-1.275187</td>\n",
        "    </tr>\n",
        "    <tr>\n",
        "      <th>2013-01-06</th>\n",
        "      <td>-0.696820</td>\n",
        "      <td> 0.538560</td>\n",
        "      <td>-1.043366</td>\n",
        "      <td>-0.047781</td>\n",
        "    </tr>\n",
        "  </tbody>\n",
        "</table>\n",
        "</div>"
       ],
       "output_type": "pyout",
       "prompt_number": 16,
       "text": [
        "                   A         B         C         D\n",
        "2013-01-04  1.424923 -1.434915  2.187872  1.131349\n",
        "2013-01-05 -0.928424 -0.365961 -1.067766 -1.275187\n",
        "2013-01-06 -0.696820  0.538560 -1.043366 -0.047781"
       ]
      }
     ],
     "prompt_number": 16
    },
    {
     "cell_type": "code",
     "collapsed": false,
     "input": [
      "df.index"
     ],
     "language": "python",
     "metadata": {},
     "outputs": [
      {
       "output_type": "pyout",
       "prompt_number": 17,
       "text": [
        "<class 'pandas.tseries.index.DatetimeIndex'>\n",
        "[2013-01-01 00:00:00, ..., 2013-01-06 00:00:00]\n",
        "Length: 6, Freq: D, Timezone: None"
       ]
      }
     ],
     "prompt_number": 17
    },
    {
     "cell_type": "code",
     "collapsed": false,
     "input": [
      "df.columns"
     ],
     "language": "python",
     "metadata": {},
     "outputs": [
      {
       "output_type": "pyout",
       "prompt_number": 18,
       "text": [
        "Index([A, B, C, D], dtype=object)"
       ]
      }
     ],
     "prompt_number": 18
    },
    {
     "cell_type": "code",
     "collapsed": false,
     "input": [
      "df.values"
     ],
     "language": "python",
     "metadata": {},
     "outputs": [
      {
       "output_type": "pyout",
       "prompt_number": 19,
       "text": [
        "array([[ 0.26193297,  1.3332379 ,  0.26198715, -0.76764333],\n",
        "       [-1.29849863,  1.23716062,  0.28885952, -0.49131795],\n",
        "       [-0.24599623, -0.08978884, -0.45886478,  0.70430215],\n",
        "       [ 1.42492316, -1.43491546,  2.18787224,  1.13134878],\n",
        "       [-0.92842425, -0.36596123, -1.06776624, -1.27518688],\n",
        "       [-0.69681987,  0.5385603 , -1.04336575, -0.04778135]])"
       ]
      }
     ],
     "prompt_number": 19
    },
    {
     "cell_type": "code",
     "collapsed": false,
     "input": [
      "df.describe()"
     ],
     "language": "python",
     "metadata": {},
     "outputs": [
      {
       "html": [
        "<div style=\"max-height:1000px;max-width:1500px;overflow:auto;\">\n",
        "<table border=\"1\" class=\"dataframe\">\n",
        "  <thead>\n",
        "    <tr style=\"text-align: right;\">\n",
        "      <th></th>\n",
        "      <th>A</th>\n",
        "      <th>B</th>\n",
        "      <th>C</th>\n",
        "      <th>D</th>\n",
        "    </tr>\n",
        "  </thead>\n",
        "  <tbody>\n",
        "    <tr>\n",
        "      <th>count</th>\n",
        "      <td> 6.000000</td>\n",
        "      <td> 6.000000</td>\n",
        "      <td> 6.000000</td>\n",
        "      <td> 6.000000</td>\n",
        "    </tr>\n",
        "    <tr>\n",
        "      <th>mean</th>\n",
        "      <td>-0.247147</td>\n",
        "      <td> 0.203049</td>\n",
        "      <td> 0.028120</td>\n",
        "      <td>-0.124380</td>\n",
        "    </tr>\n",
        "    <tr>\n",
        "      <th>std</th>\n",
        "      <td> 0.982514</td>\n",
        "      <td> 1.053730</td>\n",
        "      <td> 1.214365</td>\n",
        "      <td> 0.910189</td>\n",
        "    </tr>\n",
        "    <tr>\n",
        "      <th>min</th>\n",
        "      <td>-1.298499</td>\n",
        "      <td>-1.434915</td>\n",
        "      <td>-1.067766</td>\n",
        "      <td>-1.275187</td>\n",
        "    </tr>\n",
        "    <tr>\n",
        "      <th>25%</th>\n",
        "      <td>-0.870523</td>\n",
        "      <td>-0.296918</td>\n",
        "      <td>-0.897241</td>\n",
        "      <td>-0.698562</td>\n",
        "    </tr>\n",
        "    <tr>\n",
        "      <th>50%</th>\n",
        "      <td>-0.471408</td>\n",
        "      <td> 0.224386</td>\n",
        "      <td>-0.098439</td>\n",
        "      <td>-0.269550</td>\n",
        "    </tr>\n",
        "    <tr>\n",
        "      <th>75%</th>\n",
        "      <td> 0.134951</td>\n",
        "      <td> 1.062511</td>\n",
        "      <td> 0.282141</td>\n",
        "      <td> 0.516281</td>\n",
        "    </tr>\n",
        "    <tr>\n",
        "      <th>max</th>\n",
        "      <td> 1.424923</td>\n",
        "      <td> 1.333238</td>\n",
        "      <td> 2.187872</td>\n",
        "      <td> 1.131349</td>\n",
        "    </tr>\n",
        "  </tbody>\n",
        "</table>\n",
        "</div>"
       ],
       "output_type": "pyout",
       "prompt_number": 20,
       "text": [
        "              A         B         C         D\n",
        "count  6.000000  6.000000  6.000000  6.000000\n",
        "mean  -0.247147  0.203049  0.028120 -0.124380\n",
        "std    0.982514  1.053730  1.214365  0.910189\n",
        "min   -1.298499 -1.434915 -1.067766 -1.275187\n",
        "25%   -0.870523 -0.296918 -0.897241 -0.698562\n",
        "50%   -0.471408  0.224386 -0.098439 -0.269550\n",
        "75%    0.134951  1.062511  0.282141  0.516281\n",
        "max    1.424923  1.333238  2.187872  1.131349"
       ]
      }
     ],
     "prompt_number": 20
    },
    {
     "cell_type": "code",
     "collapsed": false,
     "input": [
      "df.T"
     ],
     "language": "python",
     "metadata": {},
     "outputs": [
      {
       "html": [
        "<div style=\"max-height:1000px;max-width:1500px;overflow:auto;\">\n",
        "<table border=\"1\" class=\"dataframe\">\n",
        "  <thead>\n",
        "    <tr style=\"text-align: right;\">\n",
        "      <th></th>\n",
        "      <th>2013-01-01 00:00:00</th>\n",
        "      <th>2013-01-02 00:00:00</th>\n",
        "      <th>2013-01-03 00:00:00</th>\n",
        "      <th>2013-01-04 00:00:00</th>\n",
        "      <th>2013-01-05 00:00:00</th>\n",
        "      <th>2013-01-06 00:00:00</th>\n",
        "    </tr>\n",
        "  </thead>\n",
        "  <tbody>\n",
        "    <tr>\n",
        "      <th>A</th>\n",
        "      <td> 0.261933</td>\n",
        "      <td>-1.298499</td>\n",
        "      <td>-0.245996</td>\n",
        "      <td> 1.424923</td>\n",
        "      <td>-0.928424</td>\n",
        "      <td>-0.696820</td>\n",
        "    </tr>\n",
        "    <tr>\n",
        "      <th>B</th>\n",
        "      <td> 1.333238</td>\n",
        "      <td> 1.237161</td>\n",
        "      <td>-0.089789</td>\n",
        "      <td>-1.434915</td>\n",
        "      <td>-0.365961</td>\n",
        "      <td> 0.538560</td>\n",
        "    </tr>\n",
        "    <tr>\n",
        "      <th>C</th>\n",
        "      <td> 0.261987</td>\n",
        "      <td> 0.288860</td>\n",
        "      <td>-0.458865</td>\n",
        "      <td> 2.187872</td>\n",
        "      <td>-1.067766</td>\n",
        "      <td>-1.043366</td>\n",
        "    </tr>\n",
        "    <tr>\n",
        "      <th>D</th>\n",
        "      <td>-0.767643</td>\n",
        "      <td>-0.491318</td>\n",
        "      <td> 0.704302</td>\n",
        "      <td> 1.131349</td>\n",
        "      <td>-1.275187</td>\n",
        "      <td>-0.047781</td>\n",
        "    </tr>\n",
        "  </tbody>\n",
        "</table>\n",
        "</div>"
       ],
       "output_type": "pyout",
       "prompt_number": 22,
       "text": [
        "   2013-01-01  2013-01-02  2013-01-03  2013-01-04  2013-01-05  2013-01-06\n",
        "A    0.261933   -1.298499   -0.245996    1.424923   -0.928424   -0.696820\n",
        "B    1.333238    1.237161   -0.089789   -1.434915   -0.365961    0.538560\n",
        "C    0.261987    0.288860   -0.458865    2.187872   -1.067766   -1.043366\n",
        "D   -0.767643   -0.491318    0.704302    1.131349   -1.275187   -0.047781"
       ]
      }
     ],
     "prompt_number": 22
    },
    {
     "cell_type": "code",
     "collapsed": false,
     "input": [
      "df.sort_index(axis=1, ascending=False)"
     ],
     "language": "python",
     "metadata": {},
     "outputs": [
      {
       "html": [
        "<div style=\"max-height:1000px;max-width:1500px;overflow:auto;\">\n",
        "<table border=\"1\" class=\"dataframe\">\n",
        "  <thead>\n",
        "    <tr style=\"text-align: right;\">\n",
        "      <th></th>\n",
        "      <th>D</th>\n",
        "      <th>C</th>\n",
        "      <th>B</th>\n",
        "      <th>A</th>\n",
        "    </tr>\n",
        "  </thead>\n",
        "  <tbody>\n",
        "    <tr>\n",
        "      <th>2013-01-01</th>\n",
        "      <td>-0.767643</td>\n",
        "      <td> 0.261987</td>\n",
        "      <td> 1.333238</td>\n",
        "      <td> 0.261933</td>\n",
        "    </tr>\n",
        "    <tr>\n",
        "      <th>2013-01-02</th>\n",
        "      <td>-0.491318</td>\n",
        "      <td> 0.288860</td>\n",
        "      <td> 1.237161</td>\n",
        "      <td>-1.298499</td>\n",
        "    </tr>\n",
        "    <tr>\n",
        "      <th>2013-01-03</th>\n",
        "      <td> 0.704302</td>\n",
        "      <td>-0.458865</td>\n",
        "      <td>-0.089789</td>\n",
        "      <td>-0.245996</td>\n",
        "    </tr>\n",
        "    <tr>\n",
        "      <th>2013-01-04</th>\n",
        "      <td> 1.131349</td>\n",
        "      <td> 2.187872</td>\n",
        "      <td>-1.434915</td>\n",
        "      <td> 1.424923</td>\n",
        "    </tr>\n",
        "    <tr>\n",
        "      <th>2013-01-05</th>\n",
        "      <td>-1.275187</td>\n",
        "      <td>-1.067766</td>\n",
        "      <td>-0.365961</td>\n",
        "      <td>-0.928424</td>\n",
        "    </tr>\n",
        "    <tr>\n",
        "      <th>2013-01-06</th>\n",
        "      <td>-0.047781</td>\n",
        "      <td>-1.043366</td>\n",
        "      <td> 0.538560</td>\n",
        "      <td>-0.696820</td>\n",
        "    </tr>\n",
        "  </tbody>\n",
        "</table>\n",
        "</div>"
       ],
       "output_type": "pyout",
       "prompt_number": 23,
       "text": [
        "                   D         C         B         A\n",
        "2013-01-01 -0.767643  0.261987  1.333238  0.261933\n",
        "2013-01-02 -0.491318  0.288860  1.237161 -1.298499\n",
        "2013-01-03  0.704302 -0.458865 -0.089789 -0.245996\n",
        "2013-01-04  1.131349  2.187872 -1.434915  1.424923\n",
        "2013-01-05 -1.275187 -1.067766 -0.365961 -0.928424\n",
        "2013-01-06 -0.047781 -1.043366  0.538560 -0.696820"
       ]
      }
     ],
     "prompt_number": 23
    },
    {
     "cell_type": "code",
     "collapsed": false,
     "input": [
      "df.sort(columns='B')"
     ],
     "language": "python",
     "metadata": {},
     "outputs": [
      {
       "html": [
        "<div style=\"max-height:1000px;max-width:1500px;overflow:auto;\">\n",
        "<table border=\"1\" class=\"dataframe\">\n",
        "  <thead>\n",
        "    <tr style=\"text-align: right;\">\n",
        "      <th></th>\n",
        "      <th>A</th>\n",
        "      <th>B</th>\n",
        "      <th>C</th>\n",
        "      <th>D</th>\n",
        "    </tr>\n",
        "  </thead>\n",
        "  <tbody>\n",
        "    <tr>\n",
        "      <th>2013-01-04</th>\n",
        "      <td> 1.424923</td>\n",
        "      <td>-1.434915</td>\n",
        "      <td> 2.187872</td>\n",
        "      <td> 1.131349</td>\n",
        "    </tr>\n",
        "    <tr>\n",
        "      <th>2013-01-05</th>\n",
        "      <td>-0.928424</td>\n",
        "      <td>-0.365961</td>\n",
        "      <td>-1.067766</td>\n",
        "      <td>-1.275187</td>\n",
        "    </tr>\n",
        "    <tr>\n",
        "      <th>2013-01-03</th>\n",
        "      <td>-0.245996</td>\n",
        "      <td>-0.089789</td>\n",
        "      <td>-0.458865</td>\n",
        "      <td> 0.704302</td>\n",
        "    </tr>\n",
        "    <tr>\n",
        "      <th>2013-01-06</th>\n",
        "      <td>-0.696820</td>\n",
        "      <td> 0.538560</td>\n",
        "      <td>-1.043366</td>\n",
        "      <td>-0.047781</td>\n",
        "    </tr>\n",
        "    <tr>\n",
        "      <th>2013-01-02</th>\n",
        "      <td>-1.298499</td>\n",
        "      <td> 1.237161</td>\n",
        "      <td> 0.288860</td>\n",
        "      <td>-0.491318</td>\n",
        "    </tr>\n",
        "    <tr>\n",
        "      <th>2013-01-01</th>\n",
        "      <td> 0.261933</td>\n",
        "      <td> 1.333238</td>\n",
        "      <td> 0.261987</td>\n",
        "      <td>-0.767643</td>\n",
        "    </tr>\n",
        "  </tbody>\n",
        "</table>\n",
        "</div>"
       ],
       "output_type": "pyout",
       "prompt_number": 26,
       "text": [
        "                   A         B         C         D\n",
        "2013-01-04  1.424923 -1.434915  2.187872  1.131349\n",
        "2013-01-05 -0.928424 -0.365961 -1.067766 -1.275187\n",
        "2013-01-03 -0.245996 -0.089789 -0.458865  0.704302\n",
        "2013-01-06 -0.696820  0.538560 -1.043366 -0.047781\n",
        "2013-01-02 -1.298499  1.237161  0.288860 -0.491318\n",
        "2013-01-01  0.261933  1.333238  0.261987 -0.767643"
       ]
      }
     ],
     "prompt_number": 26
    },
    {
     "cell_type": "markdown",
     "metadata": {},
     "source": [
      "---"
     ]
    },
    {
     "cell_type": "code",
     "collapsed": false,
     "input": [
      "df['A']"
     ],
     "language": "python",
     "metadata": {},
     "outputs": [
      {
       "output_type": "pyout",
       "prompt_number": 28,
       "text": [
        "2013-01-01    0.261933\n",
        "2013-01-02   -1.298499\n",
        "2013-01-03   -0.245996\n",
        "2013-01-04    1.424923\n",
        "2013-01-05   -0.928424\n",
        "2013-01-06   -0.696820\n",
        "Freq: D, Name: A, dtype: float64"
       ]
      }
     ],
     "prompt_number": 28
    },
    {
     "cell_type": "code",
     "collapsed": false,
     "input": [
      "df[0:3]"
     ],
     "language": "python",
     "metadata": {},
     "outputs": [
      {
       "html": [
        "<div style=\"max-height:1000px;max-width:1500px;overflow:auto;\">\n",
        "<table border=\"1\" class=\"dataframe\">\n",
        "  <thead>\n",
        "    <tr style=\"text-align: right;\">\n",
        "      <th></th>\n",
        "      <th>A</th>\n",
        "      <th>B</th>\n",
        "      <th>C</th>\n",
        "      <th>D</th>\n",
        "    </tr>\n",
        "  </thead>\n",
        "  <tbody>\n",
        "    <tr>\n",
        "      <th>2013-01-01</th>\n",
        "      <td> 0.261933</td>\n",
        "      <td> 1.333238</td>\n",
        "      <td> 0.261987</td>\n",
        "      <td>-0.767643</td>\n",
        "    </tr>\n",
        "    <tr>\n",
        "      <th>2013-01-02</th>\n",
        "      <td>-1.298499</td>\n",
        "      <td> 1.237161</td>\n",
        "      <td> 0.288860</td>\n",
        "      <td>-0.491318</td>\n",
        "    </tr>\n",
        "    <tr>\n",
        "      <th>2013-01-03</th>\n",
        "      <td>-0.245996</td>\n",
        "      <td>-0.089789</td>\n",
        "      <td>-0.458865</td>\n",
        "      <td> 0.704302</td>\n",
        "    </tr>\n",
        "  </tbody>\n",
        "</table>\n",
        "</div>"
       ],
       "output_type": "pyout",
       "prompt_number": 29,
       "text": [
        "                   A         B         C         D\n",
        "2013-01-01  0.261933  1.333238  0.261987 -0.767643\n",
        "2013-01-02 -1.298499  1.237161  0.288860 -0.491318\n",
        "2013-01-03 -0.245996 -0.089789 -0.458865  0.704302"
       ]
      }
     ],
     "prompt_number": 29
    },
    {
     "cell_type": "code",
     "collapsed": false,
     "input": [
      "df['20130102':'20130104']"
     ],
     "language": "python",
     "metadata": {},
     "outputs": [
      {
       "html": [
        "<div style=\"max-height:1000px;max-width:1500px;overflow:auto;\">\n",
        "<table border=\"1\" class=\"dataframe\">\n",
        "  <thead>\n",
        "    <tr style=\"text-align: right;\">\n",
        "      <th></th>\n",
        "      <th>A</th>\n",
        "      <th>B</th>\n",
        "      <th>C</th>\n",
        "      <th>D</th>\n",
        "    </tr>\n",
        "  </thead>\n",
        "  <tbody>\n",
        "    <tr>\n",
        "      <th>2013-01-02</th>\n",
        "      <td>-1.298499</td>\n",
        "      <td> 1.237161</td>\n",
        "      <td> 0.288860</td>\n",
        "      <td>-0.491318</td>\n",
        "    </tr>\n",
        "    <tr>\n",
        "      <th>2013-01-03</th>\n",
        "      <td>-0.245996</td>\n",
        "      <td>-0.089789</td>\n",
        "      <td>-0.458865</td>\n",
        "      <td> 0.704302</td>\n",
        "    </tr>\n",
        "    <tr>\n",
        "      <th>2013-01-04</th>\n",
        "      <td> 1.424923</td>\n",
        "      <td>-1.434915</td>\n",
        "      <td> 2.187872</td>\n",
        "      <td> 1.131349</td>\n",
        "    </tr>\n",
        "  </tbody>\n",
        "</table>\n",
        "</div>"
       ],
       "output_type": "pyout",
       "prompt_number": 30,
       "text": [
        "                   A         B         C         D\n",
        "2013-01-02 -1.298499  1.237161  0.288860 -0.491318\n",
        "2013-01-03 -0.245996 -0.089789 -0.458865  0.704302\n",
        "2013-01-04  1.424923 -1.434915  2.187872  1.131349"
       ]
      }
     ],
     "prompt_number": 30
    },
    {
     "cell_type": "markdown",
     "metadata": {},
     "source": [
      "---"
     ]
    },
    {
     "cell_type": "code",
     "collapsed": false,
     "input": [
      "df.loc[dates[0]]"
     ],
     "language": "python",
     "metadata": {},
     "outputs": [
      {
       "output_type": "pyout",
       "prompt_number": 31,
       "text": [
        "A    0.261933\n",
        "B    1.333238\n",
        "C    0.261987\n",
        "D   -0.767643\n",
        "Name: 2013-01-01 00:00:00, dtype: float64"
       ]
      }
     ],
     "prompt_number": 31
    },
    {
     "cell_type": "code",
     "collapsed": false,
     "input": [
      "df[['A', 'B']]"
     ],
     "language": "python",
     "metadata": {},
     "outputs": [
      {
       "html": [
        "<div style=\"max-height:1000px;max-width:1500px;overflow:auto;\">\n",
        "<table border=\"1\" class=\"dataframe\">\n",
        "  <thead>\n",
        "    <tr style=\"text-align: right;\">\n",
        "      <th></th>\n",
        "      <th>A</th>\n",
        "      <th>B</th>\n",
        "    </tr>\n",
        "  </thead>\n",
        "  <tbody>\n",
        "    <tr>\n",
        "      <th>2013-01-01</th>\n",
        "      <td> 0.261933</td>\n",
        "      <td> 1.333238</td>\n",
        "    </tr>\n",
        "    <tr>\n",
        "      <th>2013-01-02</th>\n",
        "      <td>-1.298499</td>\n",
        "      <td> 1.237161</td>\n",
        "    </tr>\n",
        "    <tr>\n",
        "      <th>2013-01-03</th>\n",
        "      <td>-0.245996</td>\n",
        "      <td>-0.089789</td>\n",
        "    </tr>\n",
        "    <tr>\n",
        "      <th>2013-01-04</th>\n",
        "      <td> 1.424923</td>\n",
        "      <td>-1.434915</td>\n",
        "    </tr>\n",
        "    <tr>\n",
        "      <th>2013-01-05</th>\n",
        "      <td>-0.928424</td>\n",
        "      <td>-0.365961</td>\n",
        "    </tr>\n",
        "    <tr>\n",
        "      <th>2013-01-06</th>\n",
        "      <td>-0.696820</td>\n",
        "      <td> 0.538560</td>\n",
        "    </tr>\n",
        "  </tbody>\n",
        "</table>\n",
        "</div>"
       ],
       "output_type": "pyout",
       "prompt_number": 33,
       "text": [
        "                   A         B\n",
        "2013-01-01  0.261933  1.333238\n",
        "2013-01-02 -1.298499  1.237161\n",
        "2013-01-03 -0.245996 -0.089789\n",
        "2013-01-04  1.424923 -1.434915\n",
        "2013-01-05 -0.928424 -0.365961\n",
        "2013-01-06 -0.696820  0.538560"
       ]
      }
     ],
     "prompt_number": 33
    },
    {
     "cell_type": "code",
     "collapsed": false,
     "input": [
      "df.loc[:,['A','B']] == df[['A', 'B']]"
     ],
     "language": "python",
     "metadata": {},
     "outputs": [
      {
       "html": [
        "<div style=\"max-height:1000px;max-width:1500px;overflow:auto;\">\n",
        "<table border=\"1\" class=\"dataframe\">\n",
        "  <thead>\n",
        "    <tr style=\"text-align: right;\">\n",
        "      <th></th>\n",
        "      <th>A</th>\n",
        "      <th>B</th>\n",
        "    </tr>\n",
        "  </thead>\n",
        "  <tbody>\n",
        "    <tr>\n",
        "      <th>2013-01-01</th>\n",
        "      <td> True</td>\n",
        "      <td> True</td>\n",
        "    </tr>\n",
        "    <tr>\n",
        "      <th>2013-01-02</th>\n",
        "      <td> True</td>\n",
        "      <td> True</td>\n",
        "    </tr>\n",
        "    <tr>\n",
        "      <th>2013-01-03</th>\n",
        "      <td> True</td>\n",
        "      <td> True</td>\n",
        "    </tr>\n",
        "    <tr>\n",
        "      <th>2013-01-04</th>\n",
        "      <td> True</td>\n",
        "      <td> True</td>\n",
        "    </tr>\n",
        "    <tr>\n",
        "      <th>2013-01-05</th>\n",
        "      <td> True</td>\n",
        "      <td> True</td>\n",
        "    </tr>\n",
        "    <tr>\n",
        "      <th>2013-01-06</th>\n",
        "      <td> True</td>\n",
        "      <td> True</td>\n",
        "    </tr>\n",
        "  </tbody>\n",
        "</table>\n",
        "</div>"
       ],
       "output_type": "pyout",
       "prompt_number": 35,
       "text": [
        "               A     B\n",
        "2013-01-01  True  True\n",
        "2013-01-02  True  True\n",
        "2013-01-03  True  True\n",
        "2013-01-04  True  True\n",
        "2013-01-05  True  True\n",
        "2013-01-06  True  True"
       ]
      }
     ],
     "prompt_number": 35
    },
    {
     "cell_type": "code",
     "collapsed": false,
     "input": [],
     "language": "python",
     "metadata": {},
     "outputs": []
    }
   ],
   "metadata": {}
  }
 ]
}